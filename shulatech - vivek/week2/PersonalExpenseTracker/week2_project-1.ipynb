{
 "cells": [
  {
   "cell_type": "code",
   "execution_count": 4,
   "id": "9801f1de",
   "metadata": {},
   "outputs": [],
   "source": [
    "import sqlite3\n",
    "import tkinter as tk\n",
    "from tkinter import ttk, messagebox, filedialog\n",
    "import tkcalendar as tl\n",
    "from tkcalendar import DateEntry\n",
    "import matplotlib.pyplot as plt\n",
    "import pandas as pd\n"
   ]
  },
  {
   "cell_type": "code",
   "execution_count": 5,
   "id": "0ea380c0",
   "metadata": {},
   "outputs": [],
   "source": [
    "def init_db():\n",
    "    conn = sqlite3.connect(\"expenses.db\")\n",
    "    cursor = conn.cursor()\n",
    "    cursor.execute('''CREATE TABLE IF NOT EXISTS expenses (\n",
    "                        id INTEGER PRIMARY KEY,\n",
    "                        date TEXT,\n",
    "                        category TEXT,\n",
    "                        amount REAL,\n",
    "                        description TEXT)''')\n",
    "    conn.commit()\n",
    "    conn.close()\n"
   ]
  },
  {
   "cell_type": "code",
   "execution_count": 6,
   "id": "b4321f61",
   "metadata": {},
   "outputs": [],
   "source": [
    "def add_expense(date, category, amount, description):\n",
    "    conn = sqlite3.connect(\"expenses.db\")\n",
    "    cursor = conn.cursor()\n",
    "    cursor.execute(\"INSERT INTO expenses (date, category, amount, description) VALUES (?, ?, ?, ?)\",\n",
    "                   (date, category, float(amount), description))\n",
    "    conn.commit()\n",
    "    conn.close()\n",
    "\n"
   ]
  },
  {
   "cell_type": "code",
   "execution_count": 7,
   "id": "fd1fbbed",
   "metadata": {},
   "outputs": [],
   "source": [
    "def get_expenses():\n",
    "    conn = sqlite3.connect(\"expenses.db\")\n",
    "    cursor = conn.cursor()\n",
    "    cursor.execute(\"SELECT * FROM expenses\")\n",
    "    rows = cursor.fetchall()\n",
    "    conn.close()\n",
    "    return rows\n"
   ]
  },
  {
   "cell_type": "code",
   "execution_count": 8,
   "id": "aaab9b93",
   "metadata": {},
   "outputs": [
    {
     "data": {
      "text/plain": [
       "''"
      ]
     },
     "execution_count": 8,
     "metadata": {},
     "output_type": "execute_result"
    }
   ],
   "source": [
    "# GUI Setup\n",
    "root = tk.Tk()\n",
    "root.title(\"Personal Expense Tracker\")\n",
    "root.geometry(\"800x500\")\n",
    "\n"
   ]
  },
  {
   "cell_type": "code",
   "execution_count": 9,
   "id": "45e6a50f",
   "metadata": {},
   "outputs": [],
   "source": [
    "\n",
    "frame = ttk.Frame(root, padding=10)\n",
    "frame.pack(fill=tk.BOTH, expand=True)\n",
    "\n",
    "# Input Fields\n",
    "ttk.Label(frame, text=\"Date:\").grid(row=0, column=0)\n",
    "date_entry = DateEntry(frame)\n",
    "date_entry.grid(row=0, column=1)\n"
   ]
  },
  {
   "cell_type": "code",
   "execution_count": 10,
   "id": "943df123",
   "metadata": {},
   "outputs": [],
   "source": [
    "category_var = tk.StringVar()\n",
    "ttk.Label(frame, text=\"Category:\").grid(row=0, column=2)\n",
    "category_menu = ttk.Combobox(frame, textvariable=category_var, values=[\"Food\", \"Transport\", \"Bills\", \"Shopping\", \"Others\"])\n",
    "category_menu.grid(row=0, column=3)\n",
    "\n",
    "amount_entry = ttk.Entry(frame)\n",
    "ttk.Label(frame, text=\"Amount:\").grid(row=1, column=0)\n",
    "amount_entry.grid(row=1, column=1)\n",
    "\n",
    "description_entry = ttk.Entry(frame)\n",
    "ttk.Label(frame, text=\"Description:\").grid(row=1, column=2)\n",
    "description_entry.grid(row=1, column=3)\n"
   ]
  },
  {
   "cell_type": "code",
   "execution_count": 11,
   "id": "3880784e",
   "metadata": {},
   "outputs": [],
   "source": [
    "# Functions\n",
    "def add_expense_gui():\n",
    "    date = date_entry.get()\n",
    "    category = category_var.get()\n",
    "    amount = amount_entry.get()\n",
    "    description = description_entry.get()\n",
    "    \n",
    "    if not amount.replace('.', '', 1).isdigit():\n",
    "        messagebox.showerror(\"Invalid Input\", \"Amount must be a number.\")\n",
    "        return\n",
    "    \n",
    "    add_expense(date, category, amount, description)\n",
    "    load_expenses()\n",
    "    clear_fields()\n",
    "\n"
   ]
  },
  {
   "cell_type": "code",
   "execution_count": 12,
   "id": "9095be0e",
   "metadata": {},
   "outputs": [],
   "source": [
    "def load_expenses():\n",
    "    for row in tree.get_children():\n",
    "        tree.delete(row)\n",
    "    for row in get_expenses():\n",
    "        tree.insert(\"\", tk.END, values=row)\n",
    "\n",
    "def clear_fields():\n",
    "    amount_entry.delete(0, tk.END)\n",
    "    description_entry.delete(0, tk.END)\n"
   ]
  },
  {
   "cell_type": "code",
   "execution_count": 13,
   "id": "183f2d39",
   "metadata": {},
   "outputs": [],
   "source": [
    "def generate_report():\n",
    "    conn = sqlite3.connect(\"expenses.db\")\n",
    "    df = pd.read_sql_query(\"SELECT category, SUM(amount) as total FROM expenses GROUP BY category\", conn)\n",
    "    conn.close()\n",
    "    \n",
    "    if df.empty:\n",
    "        messagebox.showinfo(\"No Data\", \"No expenses recorded yet.\")\n",
    "        return\n",
    "    \n",
    "    df.plot(kind='pie', y='total', labels=df['category'], autopct='%1.1f%%')\n",
    "    plt.title(\"Expense Distribution\")\n",
    "    plt.show()\n"
   ]
  },
  {
   "cell_type": "code",
   "execution_count": 14,
   "id": "82519e6f",
   "metadata": {},
   "outputs": [],
   "source": [
    "def generate_report():\n",
    "    conn = sqlite3.connect(\"expenses.db\")\n",
    "    df = pd.read_sql_query(\"SELECT category, SUM(amount) as total FROM expenses GROUP BY category\", conn)\n",
    "    conn.close()\n",
    "    \n",
    "    if df.empty:\n",
    "        messagebox.showinfo(\"No Data\", \"No expenses recorded yet.\")\n",
    "        return\n",
    "    \n",
    "    df.plot(kind='pie', y='total', labels=df['category'], autopct='%1.1f%%')\n",
    "    plt.title(\"Expense Distribution\")\n",
    "    plt.show()\n"
   ]
  },
  {
   "cell_type": "code",
   "execution_count": 17,
   "id": "c21af1a2",
   "metadata": {},
   "outputs": [],
   "source": [
    "def export_data():\n",
    "    conn = sqlite3.connect(\"expenses.db\")\n",
    "    df = pd.read_sql_query(\"SELECT * FROM expenses\", conn)\n",
    "    conn.close()\n",
    "    \n",
    "    file = filedialog.asksaveasfilename(defaultextension=\".csv\", filetypes=[(\"CSV files\", \".csv\"), (\"Excel files\", \".xlsx\")])\n",
    "    if file:\n",
    "        if file.endswith(\".csv\"):\n",
    "            df.to_csv(file, index=False)\n",
    "        else:\n",
    "            df.to_excel(file, index=False)\n",
    "        messagebox.showinfo(\"Success\", \"Data exported successfully!\")\n"
   ]
  },
  {
   "cell_type": "code",
   "execution_count": 18,
   "id": "fc3ac799",
   "metadata": {},
   "outputs": [],
   "source": [
    "# Buttons\n",
    "ttk.Button(frame, text=\"Add Expense\", command=add_expense_gui).grid(row=2, column=1)\n",
    "ttk.Button(frame, text=\"Generate Report\", command=generate_report).grid(row=2, column=2)\n",
    "ttk.Button(frame, text=\"Export Data\", command=export_data).grid(row=2, column=3)\n"
   ]
  },
  {
   "cell_type": "code",
   "execution_count": null,
   "id": "488c180f",
   "metadata": {},
   "outputs": [],
   "source": [
    "# Buttons\n",
    "ttk.Button(frame, text=\"Add Expense\", command=add_expense_gui).grid(row=2, column=1)\n",
    "ttk.Button(frame, text=\"Generate Report\", command=generate_report).grid(row=2, column=2)\n",
    "ttk.Button(frame, text=\"Export Data\", command=export_data).grid(row=2, column=3)\n",
    "\n",
    "# Expense Table\n",
    "tree = ttk.Treeview(frame, columns=(\"ID\", \"Date\", \"Category\", \"Amount\", \"Description\"), show=\"headings\")\n",
    "for col in (\"ID\", \"Date\", \"Category\", \"Amount\", \"Description\"):\n",
    "    tree.heading(col, text=col)\n",
    "tree.grid(row=3, column=0, columnspan=4)\n",
    "\n",
    "init_db()\n",
    "load_expenses()\n",
    "root.mainloop()"
   ]
  },
  {
   "cell_type": "code",
   "execution_count": null,
   "id": "4529a568",
   "metadata": {},
   "outputs": [],
   "source": []
  }
 ],
 "metadata": {
  "kernelspec": {
   "display_name": "Python 3 (ipykernel)",
   "language": "python",
   "name": "python3"
  },
  "language_info": {
   "codemirror_mode": {
    "name": "ipython",
    "version": 3
   },
   "file_extension": ".py",
   "mimetype": "text/x-python",
   "name": "python",
   "nbconvert_exporter": "python",
   "pygments_lexer": "ipython3",
   "version": "3.10.9"
  }
 },
 "nbformat": 4,
 "nbformat_minor": 5
}
